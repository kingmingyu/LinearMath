{
  "nbformat": 4,
  "nbformat_minor": 0,
  "metadata": {
    "colab": {
      "provenance": [],
      "mount_file_id": "17tSG9LcliFIqgPq9TKwhUCGCshkqxDyS",
      "authorship_tag": "ABX9TyOGM1cLS7el2IJpevcESRm1",
      "include_colab_link": true
    },
    "kernelspec": {
      "name": "python3",
      "display_name": "Python 3"
    },
    "language_info": {
      "name": "python"
    }
  },
  "cells": [
    {
      "cell_type": "markdown",
      "metadata": {
        "id": "view-in-github",
        "colab_type": "text"
      },
      "source": [
        "<a href=\"https://colab.research.google.com/github/kingmingyu/LinearMath/blob/main/Untitled0.ipynb\" target=\"_parent\"><img src=\"https://colab.research.google.com/assets/colab-badge.svg\" alt=\"Open In Colab\"/></a>"
      ]
    },
    {
      "cell_type": "code",
      "execution_count": null,
      "metadata": {
        "id": "PoiwIjwyRwJs"
      },
      "outputs": [],
      "source": []
    },
    {
      "cell_type": "code",
      "source": [
        "print(\"Hello wordl\")\n",
        "\n",
        "#integer\n",
        "x = 3\n",
        "print(\"정수: %01d, %02d, %03d, %04d, %05d\" % (x,x,x,x,x))\n",
        "\n",
        "#float\n",
        "x = 256.123\n",
        "print(\"실수: %.0f, %.1f, %.2f\" %(x,x,x))\n",
        "\n",
        "#string\n",
        "x = \"Hello world\"\n",
        "print(\"문자열: [%s]\" %(x))"
      ],
      "metadata": {
        "colab": {
          "base_uri": "https://localhost:8080/"
        },
        "id": "U7AZ6mG4TEhl",
        "outputId": "00a71fe1-87ab-4bf0-9d9a-dac394852e69"
      },
      "execution_count": 1,
      "outputs": [
        {
          "output_type": "stream",
          "name": "stdout",
          "text": [
            "Hello wordl\n",
            "정수: 3, 03, 003, 0003, 00003\n",
            "실수: 256, 256.1, 256.12\n",
            "문자열: [Hello world]\n"
          ]
        }
      ]
    },
    {
      "cell_type": "code",
      "source": [
        "contents = [\"Regression\", \"Classifiction\", \"SVM\", \"Clustering\", \"Demension reduction\", \"NM\", \"CNN\", \"AE\", \"GAN\", \"RNN\"]\n",
        "\n",
        "for con in contents:\n",
        "  if con in[\"Regression\", \"Classifiction\", \"SVM\", \"Clustering\", \"Demension reduction\"]:\n",
        "    print(\"%s 은(는) 기계학습 내용입니다.\" %con)\n",
        "  elif con in [\"CNN\"]:\n",
        "    print(\"%s 은(는) convolutional neural network 입니다.\" %con)\n",
        "  else:\n",
        "    print(\"%s 은(는) 심층학습 내용입니다.\" %con)"
      ],
      "metadata": {
        "colab": {
          "base_uri": "https://localhost:8080/"
        },
        "id": "5j8G4FvXVazD",
        "outputId": "a05da873-7cc9-48ac-d076-6f543d61bbe1"
      },
      "execution_count": 4,
      "outputs": [
        {
          "output_type": "stream",
          "name": "stdout",
          "text": [
            "Regression 은(는) 기계학습 내용입니다.\n",
            "Classifiction 은(는) 기계학습 내용입니다.\n",
            "SVM 은(는) 기계학습 내용입니다.\n",
            "Clustering 은(는) 기계학습 내용입니다.\n",
            "Demension reduction 은(는) 기계학습 내용입니다.\n",
            "NM 은(는) 심층학습 내용입니다.\n",
            "CNN 은(는) convolutional neural network 입니다.\n",
            "AE 은(는) 심층학습 내용입니다.\n",
            "GAN 은(는) 심층학습 내용입니다.\n",
            "RNN 은(는) 심층학습 내용입니다.\n"
          ]
        }
      ]
    },
    {
      "cell_type": "code",
      "source": [
        "for (i, con) in enumerate(contents):\n",
        "  print(\"[%d/%d]: %s\" %(i, len(contents), con))"
      ],
      "metadata": {
        "colab": {
          "base_uri": "https://localhost:8080/"
        },
        "id": "5zcEDRMJWraD",
        "outputId": "c9aeaf8b-809d-4a59-a19c-69da33614846"
      },
      "execution_count": 6,
      "outputs": [
        {
          "output_type": "stream",
          "name": "stdout",
          "text": [
            "[0/10]: Regression\n",
            "[1/10]: Classifiction\n",
            "[2/10]: SVM\n",
            "[3/10]: Clustering\n",
            "[4/10]: Demension reduction\n",
            "[5/10]: NM\n",
            "[6/10]: CNN\n",
            "[7/10]: AE\n",
            "[8/10]: GAN\n",
            "[9/10]: RNN\n"
          ]
        }
      ]
    },
    {
      "cell_type": "code",
      "source": [
        "def sum(a, b):\n",
        "  return a+b\n",
        "\n",
        "x = 10.0\n",
        "y = 20.0\n",
        "print(\"%.1f + %.1f = %.1f\" %(x, y, sum(x, y)))"
      ],
      "metadata": {
        "colab": {
          "base_uri": "https://localhost:8080/"
        },
        "id": "nOZjzPnGXmSa",
        "outputId": "e520f794-08d8-4594-b4ff-3afb556ea0d2"
      },
      "execution_count": 8,
      "outputs": [
        {
          "output_type": "stream",
          "name": "stdout",
          "text": [
            "10.0 + 20.0 = 30.0\n"
          ]
        }
      ]
    },
    {
      "cell_type": "code",
      "source": [
        "a = []\n",
        "b = [1,2,3]\n",
        "c = [\"Hello\", \",\",  \"world\"]\n",
        "d = [1,2,3,\"x\",\"y\",\"z\"]\n",
        "x=[]\n",
        "print(x)\n",
        "\n",
        "x.append('a')\n",
        "print(x)\n",
        "\n",
        "x.append(123)\n",
        "print(x)\n",
        "\n",
        "x.append([\"a\", \"b\"])\n",
        "print(x)"
      ],
      "metadata": {
        "colab": {
          "base_uri": "https://localhost:8080/"
        },
        "id": "maZ2bxnNYEQy",
        "outputId": "b2b7a480-4149-447f-fca8-c97c3c235ee1"
      },
      "execution_count": 9,
      "outputs": [
        {
          "output_type": "stream",
          "name": "stdout",
          "text": [
            "[]\n",
            "['a']\n",
            "['a', 123]\n",
            "['a', 123, ['a', 'b']]\n"
          ]
        }
      ]
    },
    {
      "cell_type": "code",
      "source": [
        "dic = dict()\n",
        "dic[\"name\"]=\"Daesik\"\n",
        "dic[\"town\"] = \"Yongin city\"\n",
        "dic[\"job\"] = \"Assistant professor\"\n",
        "print(dic)"
      ],
      "metadata": {
        "colab": {
          "base_uri": "https://localhost:8080/"
        },
        "id": "kb6tTrYjYbzr",
        "outputId": "4b3c1510-4fe3-494a-ebeb-6b94ac390fa0"
      },
      "execution_count": 10,
      "outputs": [
        {
          "output_type": "stream",
          "name": "stdout",
          "text": [
            "{'name': 'Daesik', 'town': 'Yongin city', 'job': 'Assistant professor'}\n"
          ]
        }
      ]
    },
    {
      "cell_type": "code",
      "source": [
        "class Student:\n",
        "  #생성자\n",
        "  def __init__(self, name):\n",
        "    self.name = name\n",
        "  #매써드\n",
        "  def study(self, hard=False):\n",
        "    if hard:\n",
        "      print(\"%s 학생은 열심히 공부중입니다.\" %self.name)\n",
        "    else:\n",
        "      print(\"%s 학생은 공부합니다.\" %self.name)\n",
        "\n",
        "s = Student(\"Daesik\")\n",
        "s.study()\n",
        "s.study(hard=True)"
      ],
      "metadata": {
        "colab": {
          "base_uri": "https://localhost:8080/"
        },
        "id": "UbxJiPlOYzzA",
        "outputId": "55578a06-d9cb-43a8-a87c-56b8478492d5"
      },
      "execution_count": 11,
      "outputs": [
        {
          "output_type": "stream",
          "name": "stdout",
          "text": [
            "Daesik 학생은 공부합니다.\n",
            "Daesik 학생은 열심히 공부중입니다.\n"
          ]
        }
      ]
    },
    {
      "cell_type": "code",
      "source": [
        "import numpy as np\n",
        "\n",
        "def print_val(x):\n",
        "  print(\"Type:\", type(x))\n",
        "  print(\"Shape:\", x.shape)\n",
        "  print(\"값:\\n\", x)\n",
        "  print(\" \")"
      ],
      "metadata": {
        "id": "T9dEiXC5Zfac"
      },
      "execution_count": 17,
      "outputs": []
    },
    {
      "cell_type": "code",
      "source": [
        "x = np.array([1,2,3])\n",
        "print_val(x)\n",
        "\n",
        "x[0] = 5\n",
        "print_val(x)"
      ],
      "metadata": {
        "colab": {
          "base_uri": "https://localhost:8080/"
        },
        "id": "eRfRAkLlbLxj",
        "outputId": "056c0c47-a225-4c3d-c2ca-585951dfe688"
      },
      "execution_count": 18,
      "outputs": [
        {
          "output_type": "stream",
          "name": "stdout",
          "text": [
            "Type: <class 'numpy.ndarray'>\n",
            "Shape: (3,)\n",
            "값:\n",
            " [1 2 3]\n",
            " \n",
            "Type: <class 'numpy.ndarray'>\n",
            "Shape: (3,)\n",
            "값:\n",
            " [5 2 3]\n",
            " \n"
          ]
        }
      ]
    },
    {
      "cell_type": "code",
      "source": [
        "a = np.random.random((4,4))\n",
        "print_val(a)"
      ],
      "metadata": {
        "colab": {
          "base_uri": "https://localhost:8080/"
        },
        "id": "ikm6LwfWb1T4",
        "outputId": "2aab6f7f-ae0d-41a3-8da2-919ceb079b32"
      },
      "execution_count": 19,
      "outputs": [
        {
          "output_type": "stream",
          "name": "stdout",
          "text": [
            "Type: <class 'numpy.ndarray'>\n",
            "Shape: (4, 4)\n",
            "값:\n",
            " [[0.12450653 0.11840245 0.02457349 0.31634781]\n",
            " [0.95265546 0.57015574 0.57785952 0.58909064]\n",
            " [0.11819516 0.68496275 0.1853819  0.06996562]\n",
            " [0.16354449 0.06922718 0.11104086 0.41889688]]\n",
            " \n"
          ]
        }
      ]
    },
    {
      "cell_type": "code",
      "source": [
        "a = np.random.randn(4,4)\n",
        "print_val(a)"
      ],
      "metadata": {
        "colab": {
          "base_uri": "https://localhost:8080/"
        },
        "id": "N4hIIuGncB59",
        "outputId": "5b12bb42-c5e2-45f4-ce9d-940fa33b09b1"
      },
      "execution_count": 20,
      "outputs": [
        {
          "output_type": "stream",
          "name": "stdout",
          "text": [
            "Type: <class 'numpy.ndarray'>\n",
            "Shape: (4, 4)\n",
            "값:\n",
            " [[-0.9496641  -1.69057544 -0.43184604  1.61857407]\n",
            " [ 0.86991383  0.36045937 -0.26722989  0.46004829]\n",
            " [-1.15824232  0.2629605   0.58296476  0.10050802]\n",
            " [ 0.79243307 -1.28985007  0.73863563  0.08596794]]\n",
            " \n"
          ]
        }
      ]
    },
    {
      "cell_type": "code",
      "source": [
        "a = np.array([[1,2,3,4], [5,6,7,8], [9,10,11,12]])\n",
        "print_val(a)"
      ],
      "metadata": {
        "colab": {
          "base_uri": "https://localhost:8080/"
        },
        "id": "VGhvAjVLcKB8",
        "outputId": "b5294a31-38fa-485e-b9b6-a7fc0a1f1eac"
      },
      "execution_count": 21,
      "outputs": [
        {
          "output_type": "stream",
          "name": "stdout",
          "text": [
            "Type: <class 'numpy.ndarray'>\n",
            "Shape: (3, 4)\n",
            "값:\n",
            " [[ 1  2  3  4]\n",
            " [ 5  6  7  8]\n",
            " [ 9 10 11 12]]\n",
            " \n"
          ]
        }
      ]
    },
    {
      "cell_type": "code",
      "source": [
        "b = a[:2, 1:3]\n",
        "print_val(b)"
      ],
      "metadata": {
        "colab": {
          "base_uri": "https://localhost:8080/"
        },
        "id": "8Jv90SrIcVYs",
        "outputId": "c9719320-5ec8-49d6-bc40-b6425b7445a9"
      },
      "execution_count": 22,
      "outputs": [
        {
          "output_type": "stream",
          "name": "stdout",
          "text": [
            "Type: <class 'numpy.ndarray'>\n",
            "Shape: (2, 2)\n",
            "값:\n",
            " [[2 3]\n",
            " [6 7]]\n",
            " \n"
          ]
        }
      ]
    },
    {
      "cell_type": "code",
      "source": [
        "row1 = a[1, :]\n",
        "print_val(row1)"
      ],
      "metadata": {
        "colab": {
          "base_uri": "https://localhost:8080/"
        },
        "id": "6rS4zy6DcbP4",
        "outputId": "9769b1f5-8293-46ab-b5eb-6e6209bb83b3"
      },
      "execution_count": 23,
      "outputs": [
        {
          "output_type": "stream",
          "name": "stdout",
          "text": [
            "Type: <class 'numpy.ndarray'>\n",
            "Shape: (4,)\n",
            "값:\n",
            " [5 6 7 8]\n",
            " \n"
          ]
        }
      ]
    },
    {
      "cell_type": "code",
      "source": [
        "m1 = np.array([[1,2], [3,4]], dtype=np.float64)\n",
        "m2 = np.array([[5,6], [7,8]], dtype=np.float64)"
      ],
      "metadata": {
        "id": "_1MMmTycciH4"
      },
      "execution_count": 24,
      "outputs": []
    },
    {
      "cell_type": "code",
      "source": [
        "#elementwise sum\n",
        "print_val(m1 + m2)\n",
        "print_val(np.add(m1, m2))"
      ],
      "metadata": {
        "colab": {
          "base_uri": "https://localhost:8080/"
        },
        "id": "opwvACxkdv2K",
        "outputId": "f32ff732-d493-4adf-a560-9ddba27738b6"
      },
      "execution_count": 25,
      "outputs": [
        {
          "output_type": "stream",
          "name": "stdout",
          "text": [
            "Type: <class 'numpy.ndarray'>\n",
            "Shape: (2, 2)\n",
            "값:\n",
            " [[ 6.  8.]\n",
            " [10. 12.]]\n",
            " \n",
            "Type: <class 'numpy.ndarray'>\n",
            "Shape: (2, 2)\n",
            "값:\n",
            " [[ 6.  8.]\n",
            " [10. 12.]]\n",
            " \n"
          ]
        }
      ]
    },
    {
      "cell_type": "code",
      "source": [
        "#elementwise difference\n",
        "print_val(m1 - m2)\n",
        "print_val(np.subtract(m1, m2))"
      ],
      "metadata": {
        "colab": {
          "base_uri": "https://localhost:8080/"
        },
        "id": "ydduqO_Jd-Hs",
        "outputId": "ca808a02-1ba4-43a3-850a-d964c71a77de"
      },
      "execution_count": 26,
      "outputs": [
        {
          "output_type": "stream",
          "name": "stdout",
          "text": [
            "Type: <class 'numpy.ndarray'>\n",
            "Shape: (2, 2)\n",
            "값:\n",
            " [[-4. -4.]\n",
            " [-4. -4.]]\n",
            " \n",
            "Type: <class 'numpy.ndarray'>\n",
            "Shape: (2, 2)\n",
            "값:\n",
            " [[-4. -4.]\n",
            " [-4. -4.]]\n",
            " \n"
          ]
        }
      ]
    },
    {
      "cell_type": "code",
      "source": [
        "#elementwise difference\n",
        "print_val(m1 * m2)\n",
        "print_val(np.multiply(m1, m2))"
      ],
      "metadata": {
        "colab": {
          "base_uri": "https://localhost:8080/"
        },
        "id": "Av9Iq1NZeKLa",
        "outputId": "340bfdf7-aa41-4b8d-e384-79099f28deca"
      },
      "execution_count": 27,
      "outputs": [
        {
          "output_type": "stream",
          "name": "stdout",
          "text": [
            "Type: <class 'numpy.ndarray'>\n",
            "Shape: (2, 2)\n",
            "값:\n",
            " [[ 5. 12.]\n",
            " [21. 32.]]\n",
            " \n",
            "Type: <class 'numpy.ndarray'>\n",
            "Shape: (2, 2)\n",
            "값:\n",
            " [[ 5. 12.]\n",
            " [21. 32.]]\n",
            " \n"
          ]
        }
      ]
    },
    {
      "cell_type": "code",
      "source": [
        "#elementwise division\n",
        "print_val(m1/m2)\n",
        "print_val(np.divide(m1, m2))"
      ],
      "metadata": {
        "colab": {
          "base_uri": "https://localhost:8080/"
        },
        "id": "KcpOeSQDeWbl",
        "outputId": "4c3ca3f9-38b4-417c-ee9e-07d09c8798d8"
      },
      "execution_count": 28,
      "outputs": [
        {
          "output_type": "stream",
          "name": "stdout",
          "text": [
            "Type: <class 'numpy.ndarray'>\n",
            "Shape: (2, 2)\n",
            "값:\n",
            " [[0.2        0.33333333]\n",
            " [0.42857143 0.5       ]]\n",
            " \n",
            "Type: <class 'numpy.ndarray'>\n",
            "Shape: (2, 2)\n",
            "값:\n",
            " [[0.2        0.33333333]\n",
            " [0.42857143 0.5       ]]\n",
            " \n"
          ]
        }
      ]
    },
    {
      "cell_type": "code",
      "source": [
        "#elementwise square root\n",
        "print_val(np.sqrt(m1))"
      ],
      "metadata": {
        "colab": {
          "base_uri": "https://localhost:8080/"
        },
        "id": "ndQGbefpef1K",
        "outputId": "a4788cd4-06ae-43a2-cb6c-23a159a8b2a4"
      },
      "execution_count": 30,
      "outputs": [
        {
          "output_type": "stream",
          "name": "stdout",
          "text": [
            "Type: <class 'numpy.ndarray'>\n",
            "Shape: (2, 2)\n",
            "값:\n",
            " [[1.         1.41421356]\n",
            " [1.73205081 2.        ]]\n",
            " \n"
          ]
        }
      ]
    },
    {
      "cell_type": "code",
      "source": [
        "m1 = np.array([[1,2], [3,4]])\n",
        "m2 = np.array([[5,6], [7,8]])\n",
        "v1 = np.array([9,10])\n",
        "v2 = np.array([11,12])\n",
        "\n",
        "print_val(m1)\n",
        "print_val(m2)\n",
        "print_val(v1)\n",
        "print_val(v2)"
      ],
      "metadata": {
        "colab": {
          "base_uri": "https://localhost:8080/"
        },
        "id": "g97qb0goetGy",
        "outputId": "2fec86ee-ebac-4a0b-bb17-9a9b2b659913"
      },
      "execution_count": 31,
      "outputs": [
        {
          "output_type": "stream",
          "name": "stdout",
          "text": [
            "Type: <class 'numpy.ndarray'>\n",
            "Shape: (2, 2)\n",
            "값:\n",
            " [[1 2]\n",
            " [3 4]]\n",
            " \n",
            "Type: <class 'numpy.ndarray'>\n",
            "Shape: (2, 2)\n",
            "값:\n",
            " [[5 6]\n",
            " [7 8]]\n",
            " \n",
            "Type: <class 'numpy.ndarray'>\n",
            "Shape: (2,)\n",
            "값:\n",
            " [ 9 10]\n",
            " \n",
            "Type: <class 'numpy.ndarray'>\n",
            "Shape: (2,)\n",
            "값:\n",
            " [11 12]\n",
            " \n"
          ]
        }
      ]
    }
  ]
}